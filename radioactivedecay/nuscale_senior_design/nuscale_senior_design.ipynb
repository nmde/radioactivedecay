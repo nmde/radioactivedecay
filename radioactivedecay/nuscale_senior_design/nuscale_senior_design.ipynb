{
 "cells": [
  {
   "cell_type": "markdown",
   "metadata": {},
   "source": [
    "# Preprocess ICRP-107 to create dataset for radioactivedecay\n",
    "### Introduction\n",
    "This notebook creates a decay dataset for `radioactivedecay` from the data in <a href=\"http://www.icrp.org/publication.asp?id=ICRP%20Publication%20107\">ICRP 107: Nuclear Decay Data for Dosimetric Calculations</a>.\n",
    "\n",
    "The data is saved into the following files:\n",
    "- `decay_data.npz`: NumPy arrays containing the strings of the radionuclides in the decay dataset, the half-lives and their time units, the atomic masses, the progeny, branching fractions and decay modes of each radionuclide, and the days to year conversion number (NPZ NumPy compressed array format). Atomic data of the stable nuclides is included from the <a href=\"https://iopscience.iop.org/article/10.1088/1674-1137/abddb0/meta\">AME2020</a> database, with supplemental metastable isomer excitation energies from <a href=\"https://iopscience.iop.org/article/10.1088/1674-1137/abddae\">NuBase</a>;\n",
    "- `c_scipy.npz`: pre-calculated SciPy CSR sparse matrix *C* (Amaku et al. (2010)) (NPZ NumPy compressed array format);\n",
    "- `c_inv_scipy.npz`: pre-calculated SciPy CSR sparse matrix *C<sup>-1</sup>* (inverse of *C*) (NPZ NumPy compressed array format);\n",
    "- `c_sympy.pickle`: pre-calculated SymPy sparse matrix *C* for arbitrary-precision calculations (Python pickle format);\n",
    "- `c_inv_sympy.pickle`: pre-calculated SymPy sparse matrix *C<sup>-1</sup>* for arbitrary-precision calculations (inverse of *C*) (Python pickle format);\n",
    "- `atomic_masses_sympy.pickle`: SymPy matrix of atomic masses(g/mol)for arbitrary-precision calculations (Python pickle format);\n",
    "- `decay_consts_sympy.pickle`: SymPy matrix of radionuclide decay constants (s<sup>-1</sup>) for arbitrary-precision calculations (Python pickle format);\n",
    "- `year_conversion_sympy.pickle`: SymPy representation of the days to year conversion number (Python pickle format).\n",
    "\n",
    "### Initial set up and read in ICRP-107 data into a DataFrame \n",
    "First load the necessary Python modules."
   ]
  },
  {
   "cell_type": "code",
   "execution_count": 34,
   "metadata": {},
   "outputs": [],
   "source": [
    "import itertools, pickle, re\n",
    "import fortranformat as ff\n",
    "import numpy as np\n",
    "import pandas as pd\n",
    "from scipy import sparse\n",
    "from sympy import Integer, log, Matrix, nsimplify, S\n",
    "from sympy.matrices import SparseMatrix\n",
    "import json as json"
   ]
  },
  {
   "cell_type": "markdown",
   "metadata": {},
   "source": [
    "### Define helper functions"
   ]
  },
  {
   "cell_type": "code",
   "execution_count": 35,
   "metadata": {},
   "outputs": [],
   "source": [
    "year = 365.2422\n",
    "\n",
    "def to_rational(number):\n",
    "    \"\"\"\n",
    "    Converts string representation of a number to a SymPy object.\n",
    "    \"\"\"\n",
    "\n",
    "    if 'e' in number or 'E' in number:\n",
    "        if 'e' in number:\n",
    "            end = number.split('e')[1]\n",
    "            number = number.split('e')[0]\n",
    "        else:\n",
    "            end = number.split('E')[1]\n",
    "            number = number.split('E')[0]\n",
    "        parts = number.split('.')\n",
    "        if len(parts) == 1: parts.append('')\n",
    "        if end[0] == '+' or end[0].isdigit():\n",
    "            multiply = 1\n",
    "            factor = S(10**int(end.lstrip('+')))\n",
    "        else:\n",
    "            multiply = 0\n",
    "            factor = S(10**int(end.lstrip('-')))\n",
    "        denom = S(10**len(parts[1]))\n",
    "        parts[0] = parts[0].lstrip('0')\n",
    "        if len(parts[0]) == 0: parts[1] = parts[1].lstrip('0')\n",
    "        if multiply == 1:\n",
    "            return S(parts[0]+parts[1])*factor/denom\n",
    "        else: return S(parts[0]+parts[1])/(denom*factor)\n",
    "    parts = number.split('.')\n",
    "    if len(parts) == 1: parts.append('')\n",
    "    denom = S(10**len(parts[1]))\n",
    "    parts[0] = parts[0].lstrip('0')\n",
    "    if len(parts[0]) == 0: parts[1] = parts[1].lstrip('0')\n",
    "    return S(parts[0]+parts[1])/denom"
   ]
  },
  {
   "cell_type": "markdown",
   "metadata": {},
   "source": [
    "### Read the nuclide data"
   ]
  },
  {
   "cell_type": "code",
   "execution_count": 36,
   "metadata": {},
   "outputs": [],
   "source": [
    "with open('nuclides.json') as nuclides_json:\n",
    "    nuclides = json.load(nuclides_json)\n",
    "\n",
    "nuclide_list = list(nuclides.keys())"
   ]
  },
  {
   "cell_type": "markdown",
   "metadata": {},
   "source": [
    "### Make the *&Lambda;* matrix\n",
    "Now we make the sparse lower triangular matrix *&Lambda;*, which captures the decay pathways and branching relations between the radionuclides. _&Lambda;_ is set up based on Eq. (6) in Amaku et al. (2010). The diagonal elements are all *-&lambda;<sub>jj</sub>*, i.e. negative decay constant for each radionuclide. The off-diagonal elements are all of the form *BF<sub>ij</sub>&times;&lambda;<sub>jj</sub>* for *i* > *j*, where *BF<sub>ij</sub>* is the branching fraction from parent *j* to progeny *i*. The non-zero elements beneath the *jj*<sup>th</sup> element in each column are first progeny of radionuclide *j*."
   ]
  },
  {
   "cell_type": "code",
   "execution_count": 37,
   "metadata": {},
   "outputs": [],
   "source": [
    "rows = np.array([], dtype=np.int64)\n",
    "cols = np.array([], dtype=np.int64)\n",
    "data = np.array([], dtype=np.float64)\n",
    "ln2 = np.log(2)\n",
    "\n",
    "for parent in nuclide_list:\n",
    "    j = nuclide_list.index(parent)\n",
    "    rows = np.append(rows, [j])\n",
    "    cols = np.append(cols, [j])\n",
    "    half_life = nuclides[parent]['half_life']\n",
    "    if half_life == None:\n",
    "        lambd = 0.0\n",
    "    else:\n",
    "        lambd = ln2/half_life\n",
    "    data = np.append(data, -lambd)\n",
    "    for progeny in nuclides[parent]['daughters']:\n",
    "        if (nuclides[progeny]['stable']): continue\n",
    "        if (progeny not in nuclide_list): continue\n",
    "        i = nuclide_list.index(progeny)\n",
    "        rows = np.append(rows, [i])\n",
    "        cols = np.append(cols, [j])\n",
    "        data = np.append(data, [lambd*float(nuclides[parent]['daughters'][progeny])])\n",
    "\n",
    "lambda_mat = sparse.csc_matrix((data, (rows, cols)))"
   ]
  },
  {
   "cell_type": "markdown",
   "metadata": {},
   "source": [
    "### Calculate the matrices *C* and _C<sup>-1</sup>_\n",
    "We now need to make the sparse matrices *C* and *C<sup>-1</sup>*, which are given by Eqs. (10) and (13) in Amaku et al. (2010), respectively. The diagonal elements of both matrices are 1. *C* and *C<sup>-1</sup>* differ from *&Lambda;* in that there are non-zero elements beneath the *jj*<sup>th</sup> element in each column for all progeny of *j*, i.e. everything in its full decay chain, not just the immediate daughters.\n",
    "\n",
    "Therefore we have to find all the progeny in the decay chain of each radionuclide. We do this by looping backwards over each column in *&Lambda;* to build up lists of the radionuclides in the decay chain of each parent. We then set up the basic structure (i.e. define the non-zero elements) of sparse matrices *C* and *C<sup>-1</sup>*."
   ]
  },
  {
   "cell_type": "code",
   "execution_count": 38,
   "metadata": {},
   "outputs": [],
   "source": [
    "num_nuclides = len(nuclide_list)\n",
    "# dictionary of decay chain members by index\n",
    "rows_dict = {}\n",
    "for i in range(num_nuclides-1, -1, -1):\n",
    "    a,_ = lambda_mat[:,i].nonzero()\n",
    "    b = a\n",
    "    for j in a:\n",
    "        if j > i:\n",
    "            b = np.unique(np.concatenate((b,rows_dict[j])))\n",
    "    rows_dict[i] = b\n",
    "\n",
    "rows_c = np.array([], dtype=np.int32)\n",
    "cols_c = np.array([], dtype=np.int32)\n",
    "for i in range(0, num_nuclides):\n",
    "    # row of C initialized as array of decay chain members\n",
    "    rows_c = np.concatenate((rows_c,rows_dict[i]))\n",
    "    # column of C initialized as array of index with length of chain size\n",
    "    cols_c = np.concatenate((cols_c,np.array([i]*len(rows_dict[i]), dtype=np.int32)))\n",
    "\n",
    "# initialize c and c^(-1) as sparse csc matrices with ones on diagonal\n",
    "c = sparse.eye(num_nuclides, num_nuclides, dtype=np.float64, format=\"csc\")\n",
    "c_inv = sparse.eye(num_nuclides, num_nuclides, dtype=np.float64, format=\"csc\")"
   ]
  },
  {
   "cell_type": "markdown",
   "metadata": {},
   "source": [
    "Now calculate *C* and *C<sup>-1<sup>*. Note that only the non-zero elements of *C<sub>kj</sub>* and *C<sup>-1</sup><sub>kj</sub>*  need to be considered for the sums in Eqs. (10) and (13) of Amaku et al. (2010).\n",
    "    \n",
    "Calculate *C*, and highlight any cases where the relative difference of the decay constants of two radionuclides in the same decay chain is less than 0.001 (as this could lead to numerical precision issues):"
   ]
  },
  {
   "cell_type": "code",
   "execution_count": 39,
   "metadata": {},
   "outputs": [
    {
     "name": "stderr",
     "output_type": "stream",
     "text": [
      "C:\\Users\\dmnev\\AppData\\Local\\Packages\\PythonSoftwareFoundation.Python.3.12_qbz5n2kfra8p0\\LocalCache\\local-packages\\Python312\\site-packages\\scipy\\sparse\\_index.py:100: SparseEfficiencyWarning: Changing the sparsity structure of a csc_matrix is expensive. lil_matrix is more efficient.\n",
      "  self._set_intXint(row, col, x.flat[0])\n"
     ]
    }
   ],
   "source": [
    "for index in range(0, rows_c.size):\n",
    "    i = rows_c[index]\n",
    "    j = cols_c[index]\n",
    "    if i == j: continue\n",
    "    sigma = 0.0\n",
    "    for k in rows_dict[j]:\n",
    "        if k == i: break\n",
    "        sigma += lambda_mat[i,k]*c[k,j]\n",
    "    c[i,j] = sigma/(lambda_mat[j,j]-lambda_mat[i,i])\n",
    "\n",
    "    if abs((lambda_mat[j,j]-lambda_mat[i,i])/lambda_mat[j,j]) < 1E-3: print(nuclide_list[i], nuclide_list[j])"
   ]
  },
  {
   "cell_type": "markdown",
   "metadata": {},
   "source": [
    "There are no cases where radionuclides in the same decay chain have decay constants that are too similar (for the radionuclides in ICRP-107). Now proceed to calculate *C<sup>-1</sup>*:"
   ]
  },
  {
   "cell_type": "code",
   "execution_count": 40,
   "metadata": {},
   "outputs": [],
   "source": [
    "for index in range(0, rows_c.size):\n",
    "    i = rows_c[index]\n",
    "    j = cols_c[index]\n",
    "    if i == j: continue\n",
    "    sigma = 0.0\n",
    "    for k in rows_dict[j]:\n",
    "        if k == i: break\n",
    "        sigma -= c[i,k]*c_inv[k,j]\n",
    "    c_inv[i,j] = sigma"
   ]
  },
  {
   "cell_type": "markdown",
   "metadata": {},
   "source": [
    "### Calculate SymPy versions of the matrices for arbitrary-precision calculations\n",
    "We now calculate SymPy versions of *C* and *C<sup>-1<sup>* for arbitrary-precision calculations. First define some functions for processing the data into SymPy objects:"
   ]
  },
  {
   "cell_type": "code",
   "execution_count": 41,
   "metadata": {},
   "outputs": [],
   "source": [
    "year_sympy = S(3652422)/10000\n",
    "\n",
    "def convert_half_life_sympy(halflife, unit):\n",
    "    \"\"\"\n",
    "    Conversion of SymPy half-life into seconds.\n",
    "    \"\"\"\n",
    "\n",
    "    units = {'μs':S(1)/1000000,\n",
    "             'ms':S(1)/1000,\n",
    "             's':S(1),\n",
    "             'm':S(60),\n",
    "             'h':S(3600),\n",
    "             'd':S(86400),\n",
    "             'y':S(86400)*year_sympy\n",
    "            }\n",
    "    return halflife*units[unit]"
   ]
  },
  {
   "cell_type": "markdown",
   "metadata": {},
   "source": [
    "Now make a SymPy version of the *&Lambda;* matrix:"
   ]
  },
  {
   "cell_type": "code",
   "execution_count": 42,
   "metadata": {},
   "outputs": [],
   "source": [
    "lambda_mat_sympy = SparseMatrix.zeros(num_nuclides, num_nuclides)\n",
    "lambdas_sympy = Matrix.zeros(num_nuclides, 1)\n",
    "masses_sympy = Matrix.zeros(num_nuclides, 1)\n",
    "\n",
    "for parent in nuclide_list:\n",
    "    j = nuclide_list.index(parent)\n",
    "    if nuclides[parent]['half_life'] == None:\n",
    "        lambd = Integer(0)\n",
    "        lambda_mat_sympy[j, j] = Integer(0)\n",
    "        lambdas_sympy[j] = Integer(0)\n",
    "    else:\n",
    "        hl_sympy = nuclides[parent]['half_life']\n",
    "        lambd = log(2)/hl_sympy\n",
    "        lambda_mat_sympy[j, j] = -lambd\n",
    "        lambdas_sympy[j] = lambd\n",
    "    for progeny in nuclides[parent]['daughters']:\n",
    "        if (nuclides[progeny]['stable']): continue\n",
    "        if (progeny not in nuclide_list): continue\n",
    "        i = nuclide_list.index(progeny)\n",
    "        lambda_mat_sympy[i, j] = lambd*nuclides[parent]['daughters'][progeny]\n",
    "    masses_sympy[j] = 0"
   ]
  },
  {
   "cell_type": "markdown",
   "metadata": {},
   "source": [
    "Now make a SymPy version of the *C* and *C<sup>-1</sup>* matrix:"
   ]
  },
  {
   "cell_type": "code",
   "execution_count": 43,
   "metadata": {},
   "outputs": [],
   "source": [
    "c_sympy = SparseMatrix.eye(num_nuclides)\n",
    "c_inv_sympy = SparseMatrix.eye(num_nuclides)\n",
    "\n",
    "for index in range(0, rows_c.size):\n",
    "    i = rows_c[index]\n",
    "    j = cols_c[index]\n",
    "    if i == j: continue\n",
    "    sigma = Integer(0)\n",
    "    for k in rows_dict[j]:\n",
    "        if k == i: break\n",
    "        sigma += lambda_mat_sympy[i,k]*c_sympy[k,j]\n",
    "    c_sympy[i,j] = sigma/(lambda_mat_sympy[j,j]-lambda_mat_sympy[i,i])\n",
    "\n",
    "for index in range(0, rows_c.size):\n",
    "    i = rows_c[index]\n",
    "    j = cols_c[index]\n",
    "    if i == j: continue\n",
    "    sigma = Integer(0)\n",
    "    for k in rows_dict[j]:\n",
    "        if k == i: break\n",
    "        sigma -= c_sympy[i,k]*c_inv_sympy[k,j]\n",
    "    c_inv_sympy[i,j] = sigma "
   ]
  },
  {
   "cell_type": "markdown",
   "metadata": {},
   "source": [
    "### Save the outputs\n",
    "Write out file containing NumPy arrays with the radionuclide names, the half-lives, their time units, human-readable half-life strings, the progeny, branching fractions and decay modes of each radionuclide, the atomic masses of both unstable and stable nuclides, and the days to year conversion number. Write output files containing *C* and *C<sup>-1</sup>* in the SciPy and SymPy sparse formats. Write out the SymPy versions of the decay constants."
   ]
  },
  {
   "cell_type": "code",
   "execution_count": 44,
   "metadata": {},
   "outputs": [],
   "source": [
    "half_lives = []\n",
    "half_life_units = []\n",
    "half_life_readable = []\n",
    "for nuclide in nuclide_list:\n",
    "    half_lives.append(nuclides[nuclide]['half_life'])\n",
    "    half_life_units.append('s')\n",
    "    half_life_readable.append(True)\n",
    "hldata = np.array([(np.float64(a),b,c) for a, b, c in zip(half_lives, half_life_units, half_life_readable)], dtype=object)\n",
    "\n",
    "progeny = [[] for _ in range(0, len(nuclide_list))]\n",
    "bfs = [[] for _ in range(0, len(nuclide_list))]\n",
    "modes = [[] for _ in range(0, len(nuclide_list))]\n",
    "for i in range(0, len(nuclide_list)):\n",
    "    prog, bf, mode = [], [], []\n",
    "    for d in nuclides[nuclide_list[i]][\"daughters\"]:\n",
    "        prog.append(d)\n",
    "        bf.append(float(nuclides[nuclide_list[i]][\"daughters\"][d]))\n",
    "        mode.append('beta')\n",
    "    if len(mode) > 0:\n",
    "        # sort by decreasing branching fraction\n",
    "        triple = list(zip(bf, prog, mode))\n",
    "        triple.sort(key=lambda t: (-t[0], t[1], t[2]))\n",
    "        bfs[i], progeny[i], modes[i] = map(list, zip(*triple))\n",
    "\n",
    "np.savez_compressed(\"./decay_data.npz\", nuclides=np.asarray(nuclide_list),\n",
    "                    masses=masses_sympy,\n",
    "                    hldata=hldata, progeny=np.asarray(progeny, dtype=object),\n",
    "                    bfs=np.asarray(bfs, dtype=object), modes=np.asarray(modes, dtype=object),\n",
    "                    year_conv=np.float64(year))\n",
    "\n",
    "# Write out SciPy sparse matrices (convert to CSR format)\n",
    "sparse.save_npz(\"./c_scipy.npz\", c.tocsr())\n",
    "sparse.save_npz(\"./c_inv_scipy.npz\", c_inv.tocsr())\n",
    "\n",
    "import pkg_resources, sympy\n",
    "if pkg_resources.parse_version(sympy.__version__) >= pkg_resources.parse_version('1.9'):\n",
    "    pickle_type = '1.9'\n",
    "else:\n",
    "    pickle_type = '1.8'\n",
    "\n",
    "# Write out SymPy objects to pickle files\n",
    "with open(f\"c_sympy_{pickle_type}.pickle\", \"wb\") as outfile:\n",
    "    outfile.write(pickle.dumps(c_sympy))\n",
    "with open(f\"c_inv_sympy_{pickle_type}.pickle\", \"wb\") as outfile:\n",
    "    outfile.write(pickle.dumps(c_inv_sympy))\n",
    "with open(f\"atomic_masses_sympy_{pickle_type}.pickle\", \"wb\") as outfile:\n",
    "    outfile.write(pickle.dumps(masses_sympy))\n",
    "with open(f\"decay_consts_sympy_{pickle_type}.pickle\", \"wb\") as outfile:\n",
    "    outfile.write(pickle.dumps(lambdas_sympy))\n",
    "with open(f\"year_conversion_sympy_{pickle_type}.pickle\", \"wb\") as outfile:\n",
    "    outfile.write(pickle.dumps(year_sympy))"
   ]
  }
 ],
 "metadata": {
  "kernelspec": {
   "display_name": "Python 3",
   "language": "python",
   "name": "python3"
  },
  "language_info": {
   "codemirror_mode": {
    "name": "ipython",
    "version": 3
   },
   "file_extension": ".py",
   "mimetype": "text/x-python",
   "name": "python",
   "nbconvert_exporter": "python",
   "pygments_lexer": "ipython3",
   "version": "3.12.1"
  },
  "metadata": {
   "interpreter": {
    "hash": "31f2aee4e71d21fbe5cf8b01ff0e069b9275f58929596ceb00d14d90e3e16cd6"
   }
  }
 },
 "nbformat": 4,
 "nbformat_minor": 2
}
